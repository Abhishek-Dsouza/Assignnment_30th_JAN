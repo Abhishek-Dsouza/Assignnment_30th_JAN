{
 "cells": [
  {
   "cell_type": "markdown",
   "id": "7f618317-504c-4236-9dd8-c1da9a856a6d",
   "metadata": {},
   "source": [
    "# Assignment"
   ]
  },
  {
   "cell_type": "code",
   "execution_count": 2,
   "id": "4fde66f6-cc85-4e37-8841-fd101cbab393",
   "metadata": {},
   "outputs": [
    {
     "name": "stdin",
     "output_type": "stream",
     "text": [
      "Enter your percentage  98\n"
     ]
    },
    {
     "name": "stdout",
     "output_type": "stream",
     "text": [
      "Grade A\n"
     ]
    }
   ],
   "source": [
    "\"\"\" Question 1 :- Write a program to accept percentage from the user and display the grade according to the following criteria:\n",
    "Marks Grade > 90 A\n",
    ">80 and <=90 B\n",
    ">60 and <=80 C \n",
    "below 60 D\"\"\"\n",
    "\n",
    "Marks = int(input(\"Enter your percentage \"))\n",
    "if Marks > 90:\n",
    "    print(\"Grade A\")\n",
    "elif Marks > 80 and Marks<=90:\n",
    "    print(\"Grade B\")\n",
    "elif Marks >60 and Marks<= 80:\n",
    "    print(\"Grade C\")\n",
    "else:\n",
    "    print(\"Grade D\")"
   ]
  },
  {
   "cell_type": "code",
   "execution_count": 4,
   "id": "4d0974d3-15ab-41d5-8d44-aaa77d6d7e13",
   "metadata": {},
   "outputs": [
    {
     "name": "stdin",
     "output_type": "stream",
     "text": [
      "Enter your Bike Price  900000\n"
     ]
    },
    {
     "name": "stdout",
     "output_type": "stream",
     "text": [
      "Your Road Tax Is  135000.0\n"
     ]
    }
   ],
   "source": [
    "\"\"\"Question 2 :- Write a program to accept the cost price ofa bike and display the road tax to be paid according to the following criteria:\n",
    "Cost Price(in Rs)\n",
    ">100000 15% tax\n",
    ">50000 and <= 100000 10% tax\n",
    "<=50000 5% tax \"\"\"\n",
    "\n",
    "price = int(input(\"Enter your Bike Price \"))\n",
    "if price > 100000:\n",
    "    print(\"Your Road Tax Is \",price*.15)\n",
    "elif price > 50000 and price<=100000:\n",
    "    print(\"Your Road Tax is \",price*.10)\n",
    "elif price <= 50000:\n",
    "    print(\"Your Road Tax Price is \",price*.05)"
   ]
  },
  {
   "cell_type": "code",
   "execution_count": 5,
   "id": "883c614d-f757-4011-9b97-4aa9c02b7b0f",
   "metadata": {},
   "outputs": [
    {
     "name": "stdin",
     "output_type": "stream",
     "text": [
      "select city from Delhi,Agra,Jaipur  Delhi\n"
     ]
    },
    {
     "name": "stdout",
     "output_type": "stream",
     "text": [
      "Your Selected City Is Delhi  your monument is RED FORT\n"
     ]
    }
   ],
   "source": [
    "\"\"\" Question 3 :- Accept any city from the user and display monuments of that city.\n",
    "City Delhi Red Fort\n",
    "Agra Taj Mahal \n",
    "Jaipur Jal Mahal \"\"\"\n",
    "\n",
    "city = input(\"select city from Delhi,Agra,Jaipur \")\n",
    "if city== \"Delhi\"  or city== \"delhi\" or city== \"DELHI\":\n",
    "    print(\"Your Selected City Is\",city,\" your monument is RED FORT\")\n",
    "elif city == \"jaipur\" or city == \"Jaipur\" or city == \"JAIPUR\":\n",
    "    print(\"Your Selected City Is\",city,\" your monument is JAL MAHAL\")\n",
    "elif city == \"agra\" or city== \"Agra\" or city== \"AGRA\":\n",
    "    print(\"Your Selected City Is\",city,\" your monument is TAJ MAHAL\")\n",
    "else:\n",
    "    print(\"Enter Valid City Name \")\n",
    " "
   ]
  },
  {
   "cell_type": "code",
   "execution_count": 6,
   "id": "0be05f5f-f498-4323-b4e9-335d91616c86",
   "metadata": {},
   "outputs": [
    {
     "name": "stdin",
     "output_type": "stream",
     "text": [
      "enter a number 1 to 10  3\n"
     ]
    },
    {
     "name": "stdout",
     "output_type": "stream",
     "text": [
      "This Number Divided by 3 0 times before it is less than or equal to 10\n"
     ]
    }
   ],
   "source": [
    "# Question 4 :- Check how many times a give nnumber can be divided by 3 before it is less t h a nor equal to 10.\n",
    "\n",
    "number = int(input(\"enter a number 1 to 10 \"))\n",
    "count = 0 \n",
    "while number > 10:\n",
    "    number = number/3\n",
    "    count = count+1\n",
    "print(\"This Number Can be Divided by 3\",count,\"times before it is less than or equal to 10\")"
   ]
  },
  {
   "cell_type": "code",
   "execution_count": null,
   "id": "781e9dc4-f787-401b-a433-1fb7aa9ba21f",
   "metadata": {},
   "outputs": [
    {
     "name": "stdout",
     "output_type": "stream",
     "text": [
      "1 hello pwskills\n",
      "2 hello pwskills\n",
      "3 hello pwskills\n",
      "4 hello pwskills\n",
      "5 hello pwskills\n",
      "6 hello pwskills\n",
      "7 hello pwskills\n",
      "8 hello pwskills\n",
      "9 hello pwskills\n",
      "10 hello pwskills\n"
     ]
    }
   ],
   "source": [
    "#Question 5 :- Why and When to Use While Loop In Python give a detailed description with example.\n",
    "\n",
    "\"\"\"Answer:- Python while loop is used to run a block code until a certain condition is met. \n",
    "Here, A while loop evaluates the condition. If the condition evaluates to True , the code inside the while loop is executed.\"\"\"\n",
    "\n",
    "i=1\n",
    "while i <= 10 :\n",
    "    print(i,\"hello pwskills\")\n",
    "    i=i+1\n"
   ]
  },
  {
   "cell_type": "code",
   "execution_count": 19,
   "id": "7ed7ab69-881b-4687-9df1-ebc8b732396d",
   "metadata": {},
   "outputs": [
    {
     "name": "stdout",
     "output_type": "stream",
     "text": [
      "* 1*\n",
      "* 1* 2*\n",
      "* 1* 2* 3*\n",
      "* 1* 2* 3* 4*\n",
      "* 1* 2* 3* 4* 5*\n",
      "* 1* 2* 3* 4* 5* 6*\n",
      "* 1* 2* 3* 4* 5* 6* 7*\n",
      "* 1* 2* 3* 4* 5* 6* 7* 8*\n",
      "* 1* 2* 3* 4* 5* 6* 7* 8* 9*\n",
      "* 1* 2* 3* 4* 5* 6* 7* 8* 9* 10*\n"
     ]
    }
   ],
   "source": [
    "#Question 6 :- Use nested while loop to print 3 different pattern.\n",
    "#pattern1.\n",
    "\n",
    "i=1 \n",
    "while i <=10:\n",
    "    j=1\n",
    "    while j <=i:\n",
    "        print(\"*\",j,end=\"\")\n",
    "        j=j+1\n",
    "    print(\"*\")\n",
    "    i=i+1\n"
   ]
  },
  {
   "cell_type": "code",
   "execution_count": 20,
   "id": "35c0d0b2-62bf-46f1-a705-750050e46735",
   "metadata": {},
   "outputs": [
    {
     "name": "stdout",
     "output_type": "stream",
     "text": [
      "* * * * * * * \n",
      "* * * * * * \n",
      "* * * * * \n",
      "* * * * \n",
      "* * * \n",
      "* * \n",
      "* \n"
     ]
    }
   ],
   "source": [
    "#pattern 2.\n",
    "n = 7\n",
    " i = 1\n",
    "while i <= n :\n",
    "    j = n\n",
    "    while j >= i:\n",
    "        print(\"*\", end = \" \")\n",
    "        j -= 1\n",
    "    print()\n",
    "    i += 1"
   ]
  },
  {
   "cell_type": "code",
   "execution_count": 8,
   "id": "6fb4e80d-4ec7-495d-9d1c-c30f033d0823",
   "metadata": {},
   "outputs": [
    {
     "name": "stdout",
     "output_type": "stream",
     "text": [
      "      *\n",
      "     ***\n",
      "    *****\n",
      "   *******\n",
      "  *********\n",
      " ***********\n",
      "*************\n"
     ]
    }
   ],
   "source": [
    "#pattern 3.\n",
    "\n",
    "num_rows =7\n",
    "\n",
    "row = 1\n",
    "while row <= num_rows:\n",
    "    spaces = num_rows - row\n",
    "    while spaces > 0:\n",
    "        print(\" \", end=\"\")\n",
    "        spaces = spaces-1\n",
    "    asterisks = 2 * row - 1\n",
    "    while asterisks > 0:\n",
    "        print(\"*\", end=\"\")\n",
    "        asterisks=asterisks - 1\n",
    "    print()\n",
    "    row= row+1\n",
    "\n",
    "\n",
    "\n"
   ]
  },
  {
   "cell_type": "code",
   "execution_count": 16,
   "id": "f0187c29-8df0-460f-9514-3b28ba02096f",
   "metadata": {},
   "outputs": [
    {
     "name": "stdout",
     "output_type": "stream",
     "text": [
      "10\n",
      "9\n",
      "8\n",
      "7\n",
      "6\n",
      "5\n",
      "4\n",
      "3\n",
      "2\n",
      "1\n"
     ]
    }
   ],
   "source": [
    "#Reverse a while loop to display numbers from 10 to 1.\n",
    "\n",
    "num = 10\n",
    "while num >=1:\n",
    "    print(num)\n",
    "    num=num-1\n"
   ]
  },
  {
   "cell_type": "code",
   "execution_count": null,
   "id": "99836eb1-8b76-426b-b60d-4485de4e4cd8",
   "metadata": {},
   "outputs": [],
   "source": []
  },
  {
   "cell_type": "code",
   "execution_count": null,
   "id": "6e776faa-fd4b-4a9a-810f-ee60bac001aa",
   "metadata": {},
   "outputs": [],
   "source": []
  }
 ],
 "metadata": {
  "kernelspec": {
   "display_name": "Python 3 (ipykernel)",
   "language": "python",
   "name": "python3"
  },
  "language_info": {
   "codemirror_mode": {
    "name": "ipython",
    "version": 3
   },
   "file_extension": ".py",
   "mimetype": "text/x-python",
   "name": "python",
   "nbconvert_exporter": "python",
   "pygments_lexer": "ipython3",
   "version": "3.10.8"
  }
 },
 "nbformat": 4,
 "nbformat_minor": 5
}
